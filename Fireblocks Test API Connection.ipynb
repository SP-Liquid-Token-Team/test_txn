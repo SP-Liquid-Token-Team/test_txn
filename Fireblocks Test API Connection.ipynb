{
 "cells": [
  {
   "cell_type": "code",
   "execution_count": null,
   "id": "2a362ec0",
   "metadata": {},
   "outputs": [],
   "source": [
    "import os, json\n",
    "from brownie import accounts, network, Contract"
   ]
  },
  {
   "cell_type": "markdown",
   "id": "204fe8a4",
   "metadata": {},
   "source": [
    "#### 1. create .env file with following:\n",
    "```\n",
    "FIREBLOCKS_ACC_ADDRESS=\n",
    "FIREBLOCKS_API_KEY=\n",
    "```"
   ]
  },
  {
   "cell_type": "markdown",
   "id": "a6b1553e",
   "metadata": {},
   "source": [
    "#### 2. connect to avalanche test network and check balances"
   ]
  },
  {
   "cell_type": "code",
   "execution_count": null,
   "id": "b0defd80",
   "metadata": {},
   "outputs": [],
   "source": [
    "network_name = 'avax-test'\n",
    "network.connect(network_name)"
   ]
  },
  {
   "cell_type": "code",
   "execution_count": null,
   "id": "48efca35",
   "metadata": {},
   "outputs": [],
   "source": [
    "with open('usdc_abi.json', 'r') as f:\n",
    "    abi = json.load(f)\n",
    "\n",
    "usdc = Contract.from_abi('USDC aave-test', '0x3E937B4881CBd500d05EeDAB7BA203f2b7B3f74f', abi)"
   ]
  },
  {
   "cell_type": "code",
   "execution_count": null,
   "id": "ea379a54",
   "metadata": {},
   "outputs": [],
   "source": [
    "acc = accounts.at(os.environ['FIREBLOCKS_ACC_ADDRESS'], force=True)"
   ]
  },
  {
   "cell_type": "code",
   "execution_count": null,
   "id": "1d9b4e4c",
   "metadata": {},
   "outputs": [],
   "source": [
    "print('avax balance: {}'.format(acc.balance() / (10 ** 18)))\n",
    "print('usdc balance: {}'.format(usdc.balanceOf(acc.address) / (10 ** usdc.decimals())))"
   ]
  },
  {
   "cell_type": "markdown",
   "id": "d222ff87",
   "metadata": {},
   "source": [
    "#### 3. load same acc through Fireblocks API and check balances\n",
    "- https://docs.fireblocks.com/api/?javascript#create-a-new-transaction\n",
    "- https://github.com/fireblocks/fireblocks-sdk-py"
   ]
  },
  {
   "cell_type": "code",
   "execution_count": null,
   "id": "56029706",
   "metadata": {},
   "outputs": [],
   "source": [
    "from fireblocks_sdk import *\n",
    "\n",
    "os.environ['FIREBLOCKS_API_KEY']"
   ]
  },
  {
   "cell_type": "markdown",
   "id": "e9a63255",
   "metadata": {},
   "source": [
    "#### 4. recreate this transcation to deposit into aave using Fireblocks API"
   ]
  },
  {
   "cell_type": "markdown",
   "id": "2460fae0",
   "metadata": {},
   "source": [
    "```\n",
    "with open('aave_v3_pool_abi.json', 'r') as f:\n",
    "    abi = json.load(f)\n",
    "\n",
    "aave_pool = Contract.from_abi('Aave V3 Pool testnet', '0x73A92E2b1Ec50bdf58aD5A2F6FAFB07d7D00E034', abi)\n",
    "txn = aave_pool.deposit(usdc.address, 1_000_000, acc.address, 0, {'from': acc})\n",
    "txn.wait(7)\n",
    "```"
   ]
  },
  {
   "cell_type": "code",
   "execution_count": null,
   "id": "3bd874c7",
   "metadata": {},
   "outputs": [],
   "source": [
    "from fireblocks_sdk import *"
   ]
  }
 ],
 "metadata": {
  "kernelspec": {
   "display_name": "Python 3 (ipykernel)",
   "language": "python",
   "name": "python3"
  },
  "language_info": {
   "codemirror_mode": {
    "name": "ipython",
    "version": 3
   },
   "file_extension": ".py",
   "mimetype": "text/x-python",
   "name": "python",
   "nbconvert_exporter": "python",
   "pygments_lexer": "ipython3",
   "version": "3.8.13"
  }
 },
 "nbformat": 4,
 "nbformat_minor": 5
}
